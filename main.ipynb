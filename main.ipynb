{
 "cells": [
  {
   "cell_type": "markdown",
   "id": "84f5af0d",
   "metadata": {},
   "source": [
    "# Зээлийн өгөгдлийн ангиллын анализ\n",
    "\n",
    "Энэхүү дүн шинжилгээнд бид `loan_data.csv` файлыг ашиглан зээлийн хэмжээгээр (`Amount`) өндөр эсэхийг ангиллын аргаар тодорхойлж, олон төрлийн ангиллын загваруудыг туршина.\n",
    "\n",
    "**Алхамууд:**\n",
    "1. Өгөгдөл унших  \n",
    "2. Анхан шатны дүн шинжилгээ (EDA)  \n",
    "3. Ангиллын зорилго (`HighAmount`) үүсгэх  \n",
    "4. Өгөгдөл бэлтгэл (Шимт цэгшүүлэлт, хуваалт)  \n",
    "5. Моделийн сургалт (LogisticRegression, DecisionTree, RandomForest, KNN, SVM, NaiveBayes)  \n",
    "6. Үр дүнг үнэлэх (accuracy, precision, recall, f1, ROC AUC)  \n"
   ]
  },
  {
   "cell_type": "code",
   "execution_count": 1,
   "id": "26637ac1",
   "metadata": {},
   "outputs": [],
   "source": [
    "# 1. Шаардлагатай сангуудыг импортлох\n",
    "import pandas as pd\n",
    "import numpy as np\n",
    "from sklearn.model_selection import train_test_split\n",
    "from sklearn.preprocessing import StandardScaler\n",
    "from sklearn.linear_model import LogisticRegression\n",
    "from sklearn.tree import DecisionTreeClassifier\n",
    "from sklearn.ensemble import RandomForestClassifier\n",
    "from sklearn.neighbors import KNeighborsClassifier\n",
    "from sklearn.svm import SVC\n",
    "from sklearn.naive_bayes import GaussianNB\n",
    "from sklearn.metrics import accuracy_score, precision_score, recall_score, f1_score, roc_auc_score, classification_report\n"
   ]
  },
  {
   "cell_type": "code",
   "execution_count": 2,
   "id": "fb422eda",
   "metadata": {},
   "outputs": [
    {
     "data": {
      "text/html": [
       "<div>\n",
       "<style scoped>\n",
       "    .dataframe tbody tr th:only-of-type {\n",
       "        vertical-align: middle;\n",
       "    }\n",
       "\n",
       "    .dataframe tbody tr th {\n",
       "        vertical-align: top;\n",
       "    }\n",
       "\n",
       "    .dataframe thead th {\n",
       "        text-align: right;\n",
       "    }\n",
       "</style>\n",
       "<table border=\"1\" class=\"dataframe\">\n",
       "  <thead>\n",
       "    <tr style=\"text-align: right;\">\n",
       "      <th></th>\n",
       "      <th>LoanID</th>\n",
       "      <th>CustomerID</th>\n",
       "      <th>Amount</th>\n",
       "      <th>InterestRate</th>\n",
       "      <th>LoanDate</th>\n",
       "      <th>TermMonths</th>\n",
       "    </tr>\n",
       "  </thead>\n",
       "  <tbody>\n",
       "    <tr>\n",
       "      <th>0</th>\n",
       "      <td>1</td>\n",
       "      <td>115795</td>\n",
       "      <td>14160.61</td>\n",
       "      <td>15.65</td>\n",
       "      <td>2024-10-10</td>\n",
       "      <td>12</td>\n",
       "    </tr>\n",
       "    <tr>\n",
       "      <th>1</th>\n",
       "      <td>2</td>\n",
       "      <td>100860</td>\n",
       "      <td>36431.40</td>\n",
       "      <td>11.60</td>\n",
       "      <td>2024-04-30</td>\n",
       "      <td>60</td>\n",
       "    </tr>\n",
       "    <tr>\n",
       "      <th>2</th>\n",
       "      <td>3</td>\n",
       "      <td>176820</td>\n",
       "      <td>8808.68</td>\n",
       "      <td>19.76</td>\n",
       "      <td>2020-11-12</td>\n",
       "      <td>60</td>\n",
       "    </tr>\n",
       "    <tr>\n",
       "      <th>3</th>\n",
       "      <td>4</td>\n",
       "      <td>154886</td>\n",
       "      <td>41157.59</td>\n",
       "      <td>10.85</td>\n",
       "      <td>2021-10-21</td>\n",
       "      <td>60</td>\n",
       "    </tr>\n",
       "    <tr>\n",
       "      <th>4</th>\n",
       "      <td>5</td>\n",
       "      <td>106265</td>\n",
       "      <td>30985.18</td>\n",
       "      <td>8.23</td>\n",
       "      <td>2023-04-08</td>\n",
       "      <td>12</td>\n",
       "    </tr>\n",
       "  </tbody>\n",
       "</table>\n",
       "</div>"
      ],
      "text/plain": [
       "   LoanID  CustomerID    Amount  InterestRate    LoanDate  TermMonths\n",
       "0       1      115795  14160.61         15.65  2024-10-10          12\n",
       "1       2      100860  36431.40         11.60  2024-04-30          60\n",
       "2       3      176820   8808.68         19.76  2020-11-12          60\n",
       "3       4      154886  41157.59         10.85  2021-10-21          60\n",
       "4       5      106265  30985.18          8.23  2023-04-08          12"
      ]
     },
     "execution_count": 2,
     "metadata": {},
     "output_type": "execute_result"
    }
   ],
   "source": [
    "# 2. Өгөгдлийг унших\n",
    "df = pd.read_csv('loan_data.csv')\n",
    "df.head()"
   ]
  },
  {
   "cell_type": "code",
   "execution_count": 3,
   "id": "cffe5e68",
   "metadata": {},
   "outputs": [
    {
     "data": {
      "text/plain": [
       "HighAmount\n",
       "0    50000\n",
       "1    50000\n",
       "Name: count, dtype: int64"
      ]
     },
     "execution_count": 3,
     "metadata": {},
     "output_type": "execute_result"
    }
   ],
   "source": [
    "# 3. Ангиллын зорилго үүсгэх: \n",
    "# 'HighAmount' = Amount > median(Amount)\n",
    "median_amount = df['Amount'].median()\n",
    "df['HighAmount'] = (df['Amount'] > median_amount).astype(int)\n",
    "df['HighAmount'].value_counts()"
   ]
  },
  {
   "cell_type": "code",
   "execution_count": 4,
   "id": "4a6bcfcc",
   "metadata": {},
   "outputs": [],
   "source": [
    "# 4. Өгөгдөл бэлтгэл: \n",
    "# Шаардлагатай шинж чанарыг сонгох\n",
    "features = ['InterestRate', 'TermMonths']\n",
    "X = df[features]\n",
    "y = df['HighAmount']\n",
    "\n",
    "# Мэдээллийг сургалт, шалгалтын бүлэгт хуваах\n",
    "X_train, X_test, y_train, y_test = train_test_split(\n",
    "    X, y, test_size=0.3, random_state=42, stratify=y\n",
    ")\n",
    "\n",
    "# Шимт (scaling)\n",
    "scaler = StandardScaler()\n",
    "X_train_scaled = scaler.fit_transform(X_train)\n",
    "X_test_scaled = scaler.transform(X_test)"
   ]
  },
  {
   "cell_type": "code",
   "execution_count": null,
   "id": "ba39de44",
   "metadata": {},
   "outputs": [],
   "source": [
    "# 5. Моделүүдийг тодорхойлох ба сургалт (бүх модельд нэгэн үйлдэлтэйгээр)\n",
    "models = {\n",
    "    'Logistic Regression': LogisticRegression(),\n",
    "    'Decision Tree': DecisionTreeClassifier(random_state=42),\n",
    "    'Random Forest': RandomForestClassifier(random_state=42),\n",
    "    'K-Nearest Neighbors': KNeighborsClassifier(),\n",
    "    'Support Vector Machine': SVC(probability=True, random_state=42),\n",
    "    'Naive Bayes': GaussianNB()\n",
    "}\n",
    "\n",
    "results = []\n",
    "\n",
    "for name, model in models.items():\n",
    "    # Сургалт\n",
    "    model.fit(X_train_scaled, y_train)\n",
    "    # Таамаглал\n",
    "    y_pred = model.predict(X_test_scaled)\n",
    "    y_proba = model.predict_proba(X_test_scaled)[:, 1]\n",
    "    # Үнэлгээ\n",
    "    accuracy = accuracy_score(y_test, y_pred)\n",
    "    precision = precision_score(y_test, y_pred)\n",
    "    recall = recall_score(y_test, y_pred)\n",
    "    f1 = f1_score(y_test, y_pred)\n",
    "    roc_auc = roc_auc_score(y_test, y_proba)\n",
    "    results.append({\n",
    "        'Model': name,\n",
    "        'Accuracy': accuracy,\n",
    "        'Precision': precision,\n",
    "        'Recall': recall,\n",
    "        'F1 Score': f1,\n",
    "        'ROC AUC': roc_auc\n",
    "    })\n",
    "\n",
    "# DataFrame болгон харуулах\n",
    "results_df = pd.DataFrame(results).sort_values(by='ROC AUC', ascending=False)\n",
    "results_df"
   ]
  }
 ],
 "metadata": {
  "kernelspec": {
   "display_name": "Python 3",
   "language": "python",
   "name": "python3"
  },
  "language_info": {
   "codemirror_mode": {
    "name": "ipython",
    "version": 3
   },
   "file_extension": ".py",
   "mimetype": "text/x-python",
   "name": "python",
   "nbconvert_exporter": "python",
   "pygments_lexer": "ipython3",
   "version": "3.12.8"
  }
 },
 "nbformat": 4,
 "nbformat_minor": 5
}
